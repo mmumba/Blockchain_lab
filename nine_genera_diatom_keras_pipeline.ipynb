{
  "nbformat": 4,
  "nbformat_minor": 0,
  "metadata": {
    "colab": {
      "name": "nine-genera-diatom-keras-pipeline.ipynb",
      "provenance": [],
      "collapsed_sections": [],
      "authorship_tag": "ABX9TyN7CSov0vIpKmnhDKUEzMDC",
      "include_colab_link": true
    },
    "kernelspec": {
      "name": "python3",
      "display_name": "Python 3"
    }
  },
  "cells": [
    {
      "cell_type": "markdown",
      "metadata": {
        "id": "view-in-github",
        "colab_type": "text"
      },
      "source": [
        "<a href=\"https://colab.research.google.com/github/mmumba/Blockchain_lab/blob/master/nine_genera_diatom_keras_pipeline.ipynb\" target=\"_parent\"><img src=\"https://colab.research.google.com/assets/colab-badge.svg\" alt=\"Open In Colab\"/></a>"
      ]
    },
    {
      "cell_type": "markdown",
      "metadata": {
        "id": "c3Z3eJD9Ry4-"
      },
      "source": [
        "# 9 Genera Diatom Keras Training Pipeline"
      ]
    },
    {
      "cell_type": "markdown",
      "metadata": {
        "id": "yqSKZ8eJQApG"
      },
      "source": [
        "## Setup\r\n",
        "See [TFRecord and tf.trainExample](https://colab.research.google.com/github/tensorflow/docs/blob/master/site/en/tutorials/load_data/tfrecord.ipynb#scrollTo=Ac83J0QxjhFt) for manipulating and working with TFRecords"
      ]
    },
    {
      "cell_type": "code",
      "metadata": {
        "id": "l2fEUnIHXZ8W"
      },
      "source": [
        "import tensorflow as tf\r\n",
        "import numpy as np\r\n",
        "import IPython.display as display"
      ],
      "execution_count": 2,
      "outputs": []
    }
  ]
}